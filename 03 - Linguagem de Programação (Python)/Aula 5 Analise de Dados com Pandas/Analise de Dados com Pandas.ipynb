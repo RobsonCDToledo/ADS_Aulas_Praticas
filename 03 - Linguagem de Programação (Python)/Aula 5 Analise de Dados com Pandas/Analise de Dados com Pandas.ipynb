{
 "cells": [
  {
   "cell_type": "markdown",
   "id": "e05a8611",
   "metadata": {},
   "source": [
    "# Introdução à Análise de Dados com Python"
   ]
  },
  {
   "cell_type": "markdown",
   "id": "f034a166",
   "metadata": {},
   "source": [
    "Para contextualizar sua aprendizagem, imagine a seguinte situação: você está desenvolvendo um programa de gerenciamento de informações sobre funcionários na tabela de um banco de dados SQLite."
   ]
  },
  {
   "cell_type": "markdown",
   "id": "af1b7e4a",
   "metadata": {},
   "source": [
    "##### Conectar ao banco de dados SQLite"
   ]
  },
  {
   "cell_type": "markdown",
   "id": "ca2253ef",
   "metadata": {},
   "source": [
    "precisamos criar um banco de dados SQLite e uma tabela para armazenar as informações dos funcionários. Vamos estabelecer uma conexão com o banco de dados."
   ]
  },
  {
   "cell_type": "code",
   "execution_count": 1,
   "id": "27633d89",
   "metadata": {},
   "outputs": [],
   "source": [
    "import sqlite3"
   ]
  },
  {
   "cell_type": "markdown",
   "id": "976318a3",
   "metadata": {},
   "source": [
    "##### CREATE (Criar a tabela de funcionários)"
   ]
  },
  {
   "cell_type": "code",
   "execution_count": 2,
   "id": "116ed350",
   "metadata": {},
   "outputs": [
    {
     "name": "stdout",
     "output_type": "stream",
     "text": [
      "Banco e Tabela prontos.\n"
     ]
    }
   ],
   "source": [
    "def init_db(db_path='funcionarios.db'):\n",
    "    with sqlite3.connect(db_path) as conn:\n",
    "        conn.execute('''\n",
    "            CREATE TABLE IF NOT EXISTS funcionarios (\n",
    "                id INTEGER PRIMARY KEY,\n",
    "                nome TEXT,\n",
    "                cargo TEXT,\n",
    "                salario REAL\n",
    "                )\n",
    "            '''\n",
    "            )\n",
    "    print('Banco e Tabela prontos.')\n",
    "\n",
    "init_db()\n"
   ]
  },
  {
   "cell_type": "markdown",
   "id": "27523177",
   "metadata": {},
   "source": [
    "##### INSERT (Inserir novo funcionário na tabela)"
   ]
  },
  {
   "cell_type": "code",
   "execution_count": 22,
   "id": "7d45bd6a",
   "metadata": {},
   "outputs": [
    {
     "name": "stdout",
     "output_type": "stream",
     "text": [
      "Inserido com Sucesso!!! (1, 'João', 'Analista', 5000)\n"
     ]
    }
   ],
   "source": [
    "def insert(reg, db_path='funcionarios.db'):\n",
    "    '''\n",
    "    reg = (id, nome, cargo, salario)\n",
    "\n",
    "    '''\n",
    "    with sqlite3.connect(db_path, timeout=15) as conn:\n",
    "        try:\n",
    "            conn.execute('''\n",
    "                INSERT INTO funcionarios (id, nome, cargo, salario)\n",
    "                VALUES(?, ?, ?, ?)\n",
    "                ''', reg\n",
    "                )  \n",
    "            print('Inserido com Sucesso!!!', reg)\n",
    "        except sqlite3.IntegrityError as e:\n",
    "            print('Não foi possível inserir (Chave duplicada ou restrição):', e)\n",
    "\n",
    "dado_para_registrar = (1, 'João', 'Analista', 5000)\n",
    "insert(dado_para_registrar)\n"
   ]
  },
  {
   "cell_type": "markdown",
   "id": "e4df625c",
   "metadata": {},
   "source": [
    "##### READ (Ler o dado do registro no banco, Consultar o funcionário)"
   ]
  },
  {
   "cell_type": "code",
   "execution_count": 23,
   "id": "ba97109b",
   "metadata": {},
   "outputs": [
    {
     "name": "stdout",
     "output_type": "stream",
     "text": [
      "Funcionários Cadastrados!!!\n",
      "(1, 'João', 'Analista', 5000.0)\n"
     ]
    }
   ],
   "source": [
    "def ler_dados_tabela(db_path='funcionarios.db'):\n",
    "    with sqlite3.connect(db_path) as conn:\n",
    "        cur = conn.execute('''SELECT * FROM funcionarios ORDER BY id''')\n",
    "        rows = cur.fetchall()\n",
    "    print('Funcionários Cadastrados!!!')\n",
    "\n",
    "    for linhas in rows:\n",
    "        if linhas == [0]:\n",
    "            print('Tabela Vazia!!')\n",
    "        else:\n",
    "            print(linhas)\n",
    "\n",
    "ler_dados_tabela()\n"
   ]
  },
  {
   "cell_type": "markdown",
   "id": "ed4214d1",
   "metadata": {},
   "source": [
    "##### Atualizar ou Excluir dados da tabela"
   ]
  },
  {
   "cell_type": "code",
   "execution_count": 15,
   "id": "7aa3d0ab",
   "metadata": {},
   "outputs": [
    {
     "name": "stdout",
     "output_type": "stream",
     "text": [
      "Exclusão realizada: (id=1 (1 linha!).\n"
     ]
    }
   ],
   "source": [
    "def atualizar_excluir(reg, acao, db_path='funcionarios.db'):\n",
    "    ''' reg = (id, nome, cargo, salario)\n",
    "    '''\n",
    "    acao = (acao or \"\").upper()\n",
    "    if acao not in ('UP', 'EX'):\n",
    "        raise ValueError(\"Parâmetro acão deve ser 'UP' ou 'EX'.\")\n",
    "    \n",
    "    with sqlite3.connect(db_path) as conn:\n",
    "        if acao=='UP':\n",
    "            conn.execute('''\n",
    "                INSERT INTO funcionarios (id, nome, cargo, salario)\n",
    "                VALUES(?, ? , ?, ?)\n",
    "                ON CONFLICT(id) DO UPDATE SET\n",
    "                    nome=excluded.nome,\n",
    "                    cargo=excluded.cargo,\n",
    "                    salario=excluded.salario\n",
    "                ''', reg)\n",
    "            print('Dados inseridos ou excluidos', reg)\n",
    "        else:\n",
    "            id_ = reg[0]\n",
    "            cur = conn.execute('''\n",
    "                DELETE FROM funcionarios WHERE id = ?''', (id_,))\n",
    "            if cur.rowcount == 0:\n",
    "                print(f'Nenhum registro removido (id={id_} não encontrado!).')\n",
    "            else:\n",
    "                print(f'Exclusão realizada: (id={id_} ({cur.rowcount} linha!).')\n",
    "\n",
    "dados_novos = (1, 'João', 'coordenador', 6000)\n",
    "\n",
    "acao = input(\"Para Atualizar digite UP, para excluir digite EX: \").strip().upper()\n",
    "atualizar_excluir(dados_novos, acao)\n"
   ]
  }
 ],
 "metadata": {
  "kernelspec": {
   "display_name": "Python 3",
   "language": "python",
   "name": "python3"
  },
  "language_info": {
   "codemirror_mode": {
    "name": "ipython",
    "version": 3
   },
   "file_extension": ".py",
   "mimetype": "text/x-python",
   "name": "python",
   "nbconvert_exporter": "python",
   "pygments_lexer": "ipython3",
   "version": "3.13.7"
  }
 },
 "nbformat": 4,
 "nbformat_minor": 5
}
