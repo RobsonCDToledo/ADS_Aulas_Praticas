{
 "cells": [
  {
   "cell_type": "markdown",
   "id": "b464f028",
   "metadata": {},
   "source": [
    "# Aplicação prática biblioteca Pandas"
   ]
  },
  {
   "cell_type": "markdown",
   "id": "9ced4d5e",
   "metadata": {},
   "source": [
    "Suponha que estamos gerenciando o cadastro de uma loja, e essa loja, precisa de uma orientação em qual público deve investir, sendo assim, querem saber a idade média dos clientes. para gerar campanhas e atingir publico alvo. "
   ]
  },
  {
   "cell_type": "code",
   "execution_count": 4,
   "id": "497e1aef",
   "metadata": {},
   "outputs": [
    {
     "name": "stdout",
     "output_type": "stream",
     "text": [
      "Idades dos clientes:\n",
      " 0    25\n",
      "1    30\n",
      "2    22\n",
      "3    35\n",
      "4    28\n",
      "dtype: int64\n"
     ]
    }
   ],
   "source": [
    "import pandas as pd\n",
    "\n",
    "# criando um dicionário com dados fictícios para clientes\n",
    "clientes = {    \n",
    "    'nome': ['Alice', 'Bob', 'Carol', 'David', 'Eve'],    \n",
    "    'idade': [25, 30, 22, 35, 28]\n",
    "}\n",
    "\n",
    "# Tornando o dicionário em uma Series \n",
    "series_idade = pd.Series(clientes['idade'])\n",
    "print(\"Idades dos clientes:\\n\", series_idade)\n"
   ]
  },
  {
   "cell_type": "code",
   "execution_count": 5,
   "id": "aac2539c",
   "metadata": {},
   "outputs": [
    {
     "name": "stdout",
     "output_type": "stream",
     "text": [
      "\n",
      "Idade média dos clientes: 28.0\n"
     ]
    }
   ],
   "source": [
    "# Calculando a idade média dos clientes\n",
    "idade_media = series_idade.mean()\n",
    "print(\"\\nIdade média dos clientes:\", idade_media)"
   ]
  }
 ],
 "metadata": {
  "kernelspec": {
   "display_name": "Python 3",
   "language": "python",
   "name": "python3"
  },
  "language_info": {
   "codemirror_mode": {
    "name": "ipython",
    "version": 3
   },
   "file_extension": ".py",
   "mimetype": "text/x-python",
   "name": "python",
   "nbconvert_exporter": "python",
   "pygments_lexer": "ipython3",
   "version": "3.13.7"
  }
 },
 "nbformat": 4,
 "nbformat_minor": 5
}
