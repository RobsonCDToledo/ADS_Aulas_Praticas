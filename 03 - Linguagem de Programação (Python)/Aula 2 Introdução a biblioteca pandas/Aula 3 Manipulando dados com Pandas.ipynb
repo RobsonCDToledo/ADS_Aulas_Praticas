{
 "cells": [
  {
   "cell_type": "markdown",
   "id": "52185cac",
   "metadata": {},
   "source": [
    "# utilizando API da Selic para Capturar Dados"
   ]
  },
  {
   "cell_type": "code",
   "execution_count": 51,
   "id": "b9613a40",
   "metadata": {},
   "outputs": [
    {
     "name": "stdout",
     "output_type": "stream",
     "text": [
      "<class 'pandas.core.frame.DataFrame'>\n",
      "RangeIndex: 2508 entries, 0 to 2507\n",
      "Data columns (total 2 columns):\n",
      " #   Column  Non-Null Count  Dtype  \n",
      "---  ------  --------------  -----  \n",
      " 0   data    2508 non-null   object \n",
      " 1   valor   2508 non-null   float64\n",
      "dtypes: float64(1), object(1)\n",
      "memory usage: 39.3+ KB\n",
      "None\n",
      "            data     valor\n",
      "2503  22/09/2025  0.055131\n",
      "2504  23/09/2025  0.055131\n",
      "2505  24/09/2025  0.055131\n",
      "2506  25/09/2025  0.055131\n",
      "2507  26/09/2025  0.055131\n"
     ]
    },
    {
     "data": {
      "application/vnd.microsoft.datawrangler.viewer.v0+json": {
       "columns": [
        {
         "name": "index",
         "rawType": "int64",
         "type": "integer"
        },
        {
         "name": "data",
         "rawType": "object",
         "type": "string"
        },
        {
         "name": "valor",
         "rawType": "float64",
         "type": "float"
        }
       ],
       "ref": "e1d9bab4-fb89-43be-9c35-ce93748f614b",
       "rows": [
        [
         "0",
         "30/09/2015",
         "0.052531"
        ],
        [
         "1",
         "01/10/2015",
         "0.052531"
        ],
        [
         "2",
         "02/10/2015",
         "0.052531"
        ],
        [
         "3",
         "05/10/2015",
         "0.052531"
        ],
        [
         "4",
         "06/10/2015",
         "0.052531"
        ],
        [
         "5",
         "07/10/2015",
         "0.052531"
        ],
        [
         "6",
         "08/10/2015",
         "0.052531"
        ],
        [
         "7",
         "09/10/2015",
         "0.052531"
        ],
        [
         "8",
         "13/10/2015",
         "0.052531"
        ],
        [
         "9",
         "14/10/2015",
         "0.052531"
        ],
        [
         "10",
         "15/10/2015",
         "0.052531"
        ],
        [
         "11",
         "16/10/2015",
         "0.052531"
        ],
        [
         "12",
         "19/10/2015",
         "0.052531"
        ],
        [
         "13",
         "20/10/2015",
         "0.052531"
        ],
        [
         "14",
         "21/10/2015",
         "0.052531"
        ],
        [
         "15",
         "22/10/2015",
         "0.052531"
        ],
        [
         "16",
         "23/10/2015",
         "0.052531"
        ],
        [
         "17",
         "26/10/2015",
         "0.052531"
        ],
        [
         "18",
         "27/10/2015",
         "0.052531"
        ],
        [
         "19",
         "28/10/2015",
         "0.052531"
        ],
        [
         "20",
         "29/10/2015",
         "0.052531"
        ],
        [
         "21",
         "30/10/2015",
         "0.052531"
        ],
        [
         "22",
         "03/11/2015",
         "0.052531"
        ],
        [
         "23",
         "04/11/2015",
         "0.052531"
        ],
        [
         "24",
         "05/11/2015",
         "0.052531"
        ],
        [
         "25",
         "06/11/2015",
         "0.052531"
        ],
        [
         "26",
         "09/11/2015",
         "0.052531"
        ],
        [
         "27",
         "10/11/2015",
         "0.052531"
        ],
        [
         "28",
         "11/11/2015",
         "0.052531"
        ],
        [
         "29",
         "12/11/2015",
         "0.052531"
        ],
        [
         "30",
         "13/11/2015",
         "0.052531"
        ],
        [
         "31",
         "16/11/2015",
         "0.052531"
        ],
        [
         "32",
         "17/11/2015",
         "0.052531"
        ],
        [
         "33",
         "18/11/2015",
         "0.052531"
        ],
        [
         "34",
         "19/11/2015",
         "0.052531"
        ],
        [
         "35",
         "20/11/2015",
         "0.052531"
        ],
        [
         "36",
         "23/11/2015",
         "0.052531"
        ],
        [
         "37",
         "24/11/2015",
         "0.052531"
        ],
        [
         "38",
         "25/11/2015",
         "0.052531"
        ],
        [
         "39",
         "26/11/2015",
         "0.052531"
        ],
        [
         "40",
         "27/11/2015",
         "0.052531"
        ],
        [
         "41",
         "30/11/2015",
         "0.052531"
        ],
        [
         "42",
         "01/12/2015",
         "0.052531"
        ],
        [
         "43",
         "02/12/2015",
         "0.052531"
        ],
        [
         "44",
         "03/12/2015",
         "0.052531"
        ],
        [
         "45",
         "04/12/2015",
         "0.052531"
        ],
        [
         "46",
         "07/12/2015",
         "0.052531"
        ],
        [
         "47",
         "08/12/2015",
         "0.052531"
        ],
        [
         "48",
         "09/12/2015",
         "0.052531"
        ],
        [
         "49",
         "10/12/2015",
         "0.052531"
        ]
       ],
       "shape": {
        "columns": 2,
        "rows": 2508
       }
      },
      "text/html": [
       "<div>\n",
       "<style scoped>\n",
       "    .dataframe tbody tr th:only-of-type {\n",
       "        vertical-align: middle;\n",
       "    }\n",
       "\n",
       "    .dataframe tbody tr th {\n",
       "        vertical-align: top;\n",
       "    }\n",
       "\n",
       "    .dataframe thead th {\n",
       "        text-align: right;\n",
       "    }\n",
       "</style>\n",
       "<table border=\"1\" class=\"dataframe\">\n",
       "  <thead>\n",
       "    <tr style=\"text-align: right;\">\n",
       "      <th></th>\n",
       "      <th>data</th>\n",
       "      <th>valor</th>\n",
       "    </tr>\n",
       "  </thead>\n",
       "  <tbody>\n",
       "    <tr>\n",
       "      <th>0</th>\n",
       "      <td>30/09/2015</td>\n",
       "      <td>0.052531</td>\n",
       "    </tr>\n",
       "    <tr>\n",
       "      <th>1</th>\n",
       "      <td>01/10/2015</td>\n",
       "      <td>0.052531</td>\n",
       "    </tr>\n",
       "    <tr>\n",
       "      <th>2</th>\n",
       "      <td>02/10/2015</td>\n",
       "      <td>0.052531</td>\n",
       "    </tr>\n",
       "    <tr>\n",
       "      <th>3</th>\n",
       "      <td>05/10/2015</td>\n",
       "      <td>0.052531</td>\n",
       "    </tr>\n",
       "    <tr>\n",
       "      <th>4</th>\n",
       "      <td>06/10/2015</td>\n",
       "      <td>0.052531</td>\n",
       "    </tr>\n",
       "    <tr>\n",
       "      <th>...</th>\n",
       "      <td>...</td>\n",
       "      <td>...</td>\n",
       "    </tr>\n",
       "    <tr>\n",
       "      <th>2503</th>\n",
       "      <td>22/09/2025</td>\n",
       "      <td>0.055131</td>\n",
       "    </tr>\n",
       "    <tr>\n",
       "      <th>2504</th>\n",
       "      <td>23/09/2025</td>\n",
       "      <td>0.055131</td>\n",
       "    </tr>\n",
       "    <tr>\n",
       "      <th>2505</th>\n",
       "      <td>24/09/2025</td>\n",
       "      <td>0.055131</td>\n",
       "    </tr>\n",
       "    <tr>\n",
       "      <th>2506</th>\n",
       "      <td>25/09/2025</td>\n",
       "      <td>0.055131</td>\n",
       "    </tr>\n",
       "    <tr>\n",
       "      <th>2507</th>\n",
       "      <td>26/09/2025</td>\n",
       "      <td>0.055131</td>\n",
       "    </tr>\n",
       "  </tbody>\n",
       "</table>\n",
       "<p>2508 rows × 2 columns</p>\n",
       "</div>"
      ],
      "text/plain": [
       "            data     valor\n",
       "0     30/09/2015  0.052531\n",
       "1     01/10/2015  0.052531\n",
       "2     02/10/2015  0.052531\n",
       "3     05/10/2015  0.052531\n",
       "4     06/10/2015  0.052531\n",
       "...          ...       ...\n",
       "2503  22/09/2025  0.055131\n",
       "2504  23/09/2025  0.055131\n",
       "2505  24/09/2025  0.055131\n",
       "2506  25/09/2025  0.055131\n",
       "2507  26/09/2025  0.055131\n",
       "\n",
       "[2508 rows x 2 columns]"
      ]
     },
     "execution_count": 51,
     "metadata": {},
     "output_type": "execute_result"
    }
   ],
   "source": [
    "import pandas as pd\n",
    "from datetime import date, timedelta\n",
    "\n",
    "# Parametros para reduzir consulta e otimizar extração dos dados\n",
    "hoje = date.today()  # ou date.today()\n",
    "inicio = hoje - timedelta(days=365*10)\n",
    "\n",
    "# URL da API da SELIC para conexão\n",
    "url = (\n",
    "    \"https://api.bcb.gov.br/dados/serie/bcdata.sgs.11/dados\"\n",
    "    f\"?formato=json&dataInicial={inicio.strftime('%d/%m/%Y')}\"\n",
    "    f\"&dataFinal={hoje.strftime('%d/%m/%Y')}\"\n",
    ")\n",
    "\n",
    "df_selic = pd.read_json(url) # \n",
    "\n",
    "print(df_selic.info())\n",
    "print(df_selic.tail())\n",
    "df_selic\n"
   ]
  },
  {
   "cell_type": "code",
   "execution_count": 52,
   "id": "38f17ec7",
   "metadata": {},
   "outputs": [],
   "source": [
    "df_selic.drop_duplicates(keep='last', inplace=True) # remove as duplicadas do dataframe"
   ]
  },
  {
   "cell_type": "code",
   "execution_count": 53,
   "id": "3ca50093",
   "metadata": {},
   "outputs": [
    {
     "data": {
      "application/vnd.microsoft.datawrangler.viewer.v0+json": {
       "columns": [
        {
         "name": "index",
         "rawType": "int64",
         "type": "integer"
        },
        {
         "name": "data",
         "rawType": "object",
         "type": "string"
        },
        {
         "name": "valor",
         "rawType": "float64",
         "type": "float"
        },
        {
         "name": "data_extracao",
         "rawType": "object",
         "type": "unknown"
        },
        {
         "name": "responsvel",
         "rawType": "object",
         "type": "string"
        }
       ],
       "ref": "2bddf93e-68b1-4971-b88d-cbe75031dc7a",
       "rows": [
        [
         "0",
         "30/09/2015",
         "0.052531",
         "2025-09-27",
         "Robson"
        ],
        [
         "1",
         "01/10/2015",
         "0.052531",
         "2025-09-27",
         "Robson"
        ],
        [
         "2",
         "02/10/2015",
         "0.052531",
         "2025-09-27",
         "Robson"
        ],
        [
         "3",
         "05/10/2015",
         "0.052531",
         "2025-09-27",
         "Robson"
        ],
        [
         "4",
         "06/10/2015",
         "0.052531",
         "2025-09-27",
         "Robson"
        ]
       ],
       "shape": {
        "columns": 4,
        "rows": 5
       }
      },
      "text/html": [
       "<div>\n",
       "<style scoped>\n",
       "    .dataframe tbody tr th:only-of-type {\n",
       "        vertical-align: middle;\n",
       "    }\n",
       "\n",
       "    .dataframe tbody tr th {\n",
       "        vertical-align: top;\n",
       "    }\n",
       "\n",
       "    .dataframe thead th {\n",
       "        text-align: right;\n",
       "    }\n",
       "</style>\n",
       "<table border=\"1\" class=\"dataframe\">\n",
       "  <thead>\n",
       "    <tr style=\"text-align: right;\">\n",
       "      <th></th>\n",
       "      <th>data</th>\n",
       "      <th>valor</th>\n",
       "      <th>data_extracao</th>\n",
       "      <th>responsvel</th>\n",
       "    </tr>\n",
       "  </thead>\n",
       "  <tbody>\n",
       "    <tr>\n",
       "      <th>0</th>\n",
       "      <td>30/09/2015</td>\n",
       "      <td>0.052531</td>\n",
       "      <td>2025-09-27</td>\n",
       "      <td>Robson</td>\n",
       "    </tr>\n",
       "    <tr>\n",
       "      <th>1</th>\n",
       "      <td>01/10/2015</td>\n",
       "      <td>0.052531</td>\n",
       "      <td>2025-09-27</td>\n",
       "      <td>Robson</td>\n",
       "    </tr>\n",
       "    <tr>\n",
       "      <th>2</th>\n",
       "      <td>02/10/2015</td>\n",
       "      <td>0.052531</td>\n",
       "      <td>2025-09-27</td>\n",
       "      <td>Robson</td>\n",
       "    </tr>\n",
       "    <tr>\n",
       "      <th>3</th>\n",
       "      <td>05/10/2015</td>\n",
       "      <td>0.052531</td>\n",
       "      <td>2025-09-27</td>\n",
       "      <td>Robson</td>\n",
       "    </tr>\n",
       "    <tr>\n",
       "      <th>4</th>\n",
       "      <td>06/10/2015</td>\n",
       "      <td>0.052531</td>\n",
       "      <td>2025-09-27</td>\n",
       "      <td>Robson</td>\n",
       "    </tr>\n",
       "  </tbody>\n",
       "</table>\n",
       "</div>"
      ],
      "text/plain": [
       "         data     valor data_extracao responsvel\n",
       "0  30/09/2015  0.052531    2025-09-27     Robson\n",
       "1  01/10/2015  0.052531    2025-09-27     Robson\n",
       "2  02/10/2015  0.052531    2025-09-27     Robson\n",
       "3  05/10/2015  0.052531    2025-09-27     Robson\n",
       "4  06/10/2015  0.052531    2025-09-27     Robson"
      ]
     },
     "execution_count": 53,
     "metadata": {},
     "output_type": "execute_result"
    }
   ],
   "source": [
    "# Inserindo colunas e dados no dataframe\n",
    "data_extracao = date.today()\n",
    "df_selic['data_extracao'] = data_extracao\n",
    "df_selic['responsvel'] = \"Robson\"\n",
    "df_selic.head()"
   ]
  },
  {
   "cell_type": "code",
   "execution_count": 54,
   "id": "6fa51a41",
   "metadata": {},
   "outputs": [
    {
     "data": {
      "application/vnd.microsoft.datawrangler.viewer.v0+json": {
       "columns": [
        {
         "name": "index",
         "rawType": "int64",
         "type": "integer"
        },
        {
         "name": "data",
         "rawType": "object",
         "type": "string"
        },
        {
         "name": "valor",
         "rawType": "float64",
         "type": "float"
        },
        {
         "name": "data_extracao",
         "rawType": "object",
         "type": "unknown"
        },
        {
         "name": "responsvel",
         "rawType": "object",
         "type": "string"
        }
       ],
       "ref": "3fa7d8d8-60a4-4338-8380-91570b64213f",
       "rows": [
        [
         "0",
         "30/09/2015",
         "0.052531",
         "2025-09-27",
         "Robson"
        ],
        [
         "20",
         "29/10/2015",
         "0.052531",
         "2025-09-27",
         "Robson"
        ],
        [
         "70",
         "12/01/2016",
         "0.052531",
         "2025-09-27",
         "Robson"
        ],
        [
         "90",
         "11/02/2016",
         "0.052531",
         "2025-09-27",
         "Robson"
        ],
        [
         "100",
         "25/02/2016",
         "0.052531",
         "2025-09-27",
         "Robson"
        ]
       ],
       "shape": {
        "columns": 4,
        "rows": 5
       }
      },
      "text/html": [
       "<div>\n",
       "<style scoped>\n",
       "    .dataframe tbody tr th:only-of-type {\n",
       "        vertical-align: middle;\n",
       "    }\n",
       "\n",
       "    .dataframe tbody tr th {\n",
       "        vertical-align: top;\n",
       "    }\n",
       "\n",
       "    .dataframe thead th {\n",
       "        text-align: right;\n",
       "    }\n",
       "</style>\n",
       "<table border=\"1\" class=\"dataframe\">\n",
       "  <thead>\n",
       "    <tr style=\"text-align: right;\">\n",
       "      <th></th>\n",
       "      <th>data</th>\n",
       "      <th>valor</th>\n",
       "      <th>data_extracao</th>\n",
       "      <th>responsvel</th>\n",
       "    </tr>\n",
       "  </thead>\n",
       "  <tbody>\n",
       "    <tr>\n",
       "      <th>0</th>\n",
       "      <td>30/09/2015</td>\n",
       "      <td>0.052531</td>\n",
       "      <td>2025-09-27</td>\n",
       "      <td>Robson</td>\n",
       "    </tr>\n",
       "    <tr>\n",
       "      <th>20</th>\n",
       "      <td>29/10/2015</td>\n",
       "      <td>0.052531</td>\n",
       "      <td>2025-09-27</td>\n",
       "      <td>Robson</td>\n",
       "    </tr>\n",
       "    <tr>\n",
       "      <th>70</th>\n",
       "      <td>12/01/2016</td>\n",
       "      <td>0.052531</td>\n",
       "      <td>2025-09-27</td>\n",
       "      <td>Robson</td>\n",
       "    </tr>\n",
       "    <tr>\n",
       "      <th>90</th>\n",
       "      <td>11/02/2016</td>\n",
       "      <td>0.052531</td>\n",
       "      <td>2025-09-27</td>\n",
       "      <td>Robson</td>\n",
       "    </tr>\n",
       "    <tr>\n",
       "      <th>100</th>\n",
       "      <td>25/02/2016</td>\n",
       "      <td>0.052531</td>\n",
       "      <td>2025-09-27</td>\n",
       "      <td>Robson</td>\n",
       "    </tr>\n",
       "  </tbody>\n",
       "</table>\n",
       "</div>"
      ],
      "text/plain": [
       "           data     valor data_extracao responsvel\n",
       "0    30/09/2015  0.052531    2025-09-27     Robson\n",
       "20   29/10/2015  0.052531    2025-09-27     Robson\n",
       "70   12/01/2016  0.052531    2025-09-27     Robson\n",
       "90   11/02/2016  0.052531    2025-09-27     Robson\n",
       "100  25/02/2016  0.052531    2025-09-27     Robson"
      ]
     },
     "execution_count": 54,
     "metadata": {},
     "output_type": "execute_result"
    }
   ],
   "source": [
    "# Teste de procura dentro do dataframe \n",
    "\n",
    "df_selic.loc[[0,20,70,90,100]]\n",
    "\n"
   ]
  },
  {
   "cell_type": "code",
   "execution_count": 56,
   "id": "295624bf",
   "metadata": {},
   "outputs": [
    {
     "name": "stdout",
     "output_type": "stream",
     "text": [
      "<class 'pandas.core.series.Series'>\n"
     ]
    },
    {
     "data": {
      "application/vnd.microsoft.datawrangler.viewer.v0+json": {
       "columns": [
        {
         "name": "index",
         "rawType": "int64",
         "type": "integer"
        },
        {
         "name": "valor",
         "rawType": "bool",
         "type": "boolean"
        }
       ],
       "ref": "ed9b2e0e-fa9c-4401-9842-1a46232f56ed",
       "rows": [
        [
         "0",
         "False"
        ],
        [
         "1",
         "False"
        ],
        [
         "2",
         "False"
        ],
        [
         "3",
         "False"
        ],
        [
         "4",
         "False"
        ],
        [
         "5",
         "False"
        ],
        [
         "6",
         "False"
        ],
        [
         "7",
         "False"
        ],
        [
         "8",
         "False"
        ],
        [
         "9",
         "False"
        ],
        [
         "10",
         "False"
        ],
        [
         "11",
         "False"
        ],
        [
         "12",
         "False"
        ],
        [
         "13",
         "False"
        ],
        [
         "14",
         "False"
        ],
        [
         "15",
         "False"
        ],
        [
         "16",
         "False"
        ],
        [
         "17",
         "False"
        ],
        [
         "18",
         "False"
        ],
        [
         "19",
         "False"
        ],
        [
         "20",
         "False"
        ],
        [
         "21",
         "False"
        ],
        [
         "22",
         "False"
        ],
        [
         "23",
         "False"
        ],
        [
         "24",
         "False"
        ],
        [
         "25",
         "False"
        ],
        [
         "26",
         "False"
        ],
        [
         "27",
         "False"
        ],
        [
         "28",
         "False"
        ],
        [
         "29",
         "False"
        ],
        [
         "30",
         "False"
        ],
        [
         "31",
         "False"
        ],
        [
         "32",
         "False"
        ],
        [
         "33",
         "False"
        ],
        [
         "34",
         "False"
        ],
        [
         "35",
         "False"
        ],
        [
         "36",
         "False"
        ],
        [
         "37",
         "False"
        ],
        [
         "38",
         "False"
        ],
        [
         "39",
         "False"
        ],
        [
         "40",
         "False"
        ],
        [
         "41",
         "False"
        ],
        [
         "42",
         "False"
        ],
        [
         "43",
         "False"
        ],
        [
         "44",
         "False"
        ],
        [
         "45",
         "False"
        ],
        [
         "46",
         "False"
        ],
        [
         "47",
         "False"
        ],
        [
         "48",
         "False"
        ],
        [
         "49",
         "False"
        ]
       ],
       "shape": {
        "columns": 1,
        "rows": 2508
       }
      },
      "text/plain": [
       "0       False\n",
       "1       False\n",
       "2       False\n",
       "3       False\n",
       "4       False\n",
       "        ...  \n",
       "2503    False\n",
       "2504    False\n",
       "2505    False\n",
       "2506    False\n",
       "2507    False\n",
       "Name: valor, Length: 2508, dtype: bool"
      ]
     },
     "execution_count": 56,
     "metadata": {},
     "output_type": "execute_result"
    }
   ],
   "source": [
    "# Testando valores da Selic com base em um parâmetro Exemplo <0.01\n",
    "\n",
    "teste_preco = df_selic['valor'] < 0.01\n",
    "print(type(teste_preco))\n",
    "teste_preco "
   ]
  },
  {
   "cell_type": "markdown",
   "id": "dbcdad43",
   "metadata": {},
   "source": [
    "# Aplicação Aula prática Biblioteca Pandas"
   ]
  },
  {
   "cell_type": "markdown",
   "id": "85007109",
   "metadata": {},
   "source": [
    "suponha, agora que você trabalha em uma loja que vende itens variados, por conta de um erro no sistema de venda, não mostra o valor unitário dos itens vendidos e existem algumas duplicações de linhas.  \n",
    "você precisa mostrar os itens com valores acima de 50 reais para o planejamento de marketing.... \n"
   ]
  },
  {
   "cell_type": "code",
   "execution_count": 62,
   "id": "ce591293",
   "metadata": {},
   "outputs": [
    {
     "data": {
      "application/vnd.microsoft.datawrangler.viewer.v0+json": {
       "columns": [
        {
         "name": "index",
         "rawType": "int64",
         "type": "integer"
        },
        {
         "name": "nome",
         "rawType": "object",
         "type": "string"
        },
        {
         "name": "qtd_comprada",
         "rawType": "int64",
         "type": "integer"
        },
        {
         "name": "tipo_de_item",
         "rawType": "object",
         "type": "string"
        },
        {
         "name": "receita_total",
         "rawType": "int64",
         "type": "integer"
        }
       ],
       "ref": "9b2b7633-5dee-4a43-b8af-6d099dc9b4e1",
       "rows": [
        [
         "0",
         "Produto A",
         "3",
         "Eletrônico",
         "120"
        ],
        [
         "1",
         "Produto B",
         "1",
         "Vestuário",
         "80"
        ],
        [
         "2",
         "Produto C",
         "4",
         "Alimento",
         "60"
        ],
        [
         "3",
         "Produto A",
         "3",
         "Eletrônico",
         "120"
        ],
        [
         "4",
         "Produto E",
         "2",
         "Alimento",
         "90"
        ]
       ],
       "shape": {
        "columns": 4,
        "rows": 5
       }
      },
      "text/html": [
       "<div>\n",
       "<style scoped>\n",
       "    .dataframe tbody tr th:only-of-type {\n",
       "        vertical-align: middle;\n",
       "    }\n",
       "\n",
       "    .dataframe tbody tr th {\n",
       "        vertical-align: top;\n",
       "    }\n",
       "\n",
       "    .dataframe thead th {\n",
       "        text-align: right;\n",
       "    }\n",
       "</style>\n",
       "<table border=\"1\" class=\"dataframe\">\n",
       "  <thead>\n",
       "    <tr style=\"text-align: right;\">\n",
       "      <th></th>\n",
       "      <th>nome</th>\n",
       "      <th>qtd_comprada</th>\n",
       "      <th>tipo_de_item</th>\n",
       "      <th>receita_total</th>\n",
       "    </tr>\n",
       "  </thead>\n",
       "  <tbody>\n",
       "    <tr>\n",
       "      <th>0</th>\n",
       "      <td>Produto A</td>\n",
       "      <td>3</td>\n",
       "      <td>Eletrônico</td>\n",
       "      <td>120</td>\n",
       "    </tr>\n",
       "    <tr>\n",
       "      <th>1</th>\n",
       "      <td>Produto B</td>\n",
       "      <td>1</td>\n",
       "      <td>Vestuário</td>\n",
       "      <td>80</td>\n",
       "    </tr>\n",
       "    <tr>\n",
       "      <th>2</th>\n",
       "      <td>Produto C</td>\n",
       "      <td>4</td>\n",
       "      <td>Alimento</td>\n",
       "      <td>60</td>\n",
       "    </tr>\n",
       "    <tr>\n",
       "      <th>3</th>\n",
       "      <td>Produto A</td>\n",
       "      <td>3</td>\n",
       "      <td>Eletrônico</td>\n",
       "      <td>120</td>\n",
       "    </tr>\n",
       "    <tr>\n",
       "      <th>4</th>\n",
       "      <td>Produto E</td>\n",
       "      <td>2</td>\n",
       "      <td>Alimento</td>\n",
       "      <td>90</td>\n",
       "    </tr>\n",
       "  </tbody>\n",
       "</table>\n",
       "</div>"
      ],
      "text/plain": [
       "        nome  qtd_comprada tipo_de_item  receita_total\n",
       "0  Produto A             3   Eletrônico            120\n",
       "1  Produto B             1    Vestuário             80\n",
       "2  Produto C             4     Alimento             60\n",
       "3  Produto A             3   Eletrônico            120\n",
       "4  Produto E             2     Alimento             90"
      ]
     },
     "execution_count": 62,
     "metadata": {},
     "output_type": "execute_result"
    }
   ],
   "source": [
    "# Criando o dataframe com os produtos.\n",
    "\n",
    "dados = {\n",
    "    'nome' : ['Produto A', 'Produto B', 'Produto C', 'Produto A', 'Produto E'],\n",
    "    'qtd_comprada':[3, 1, 4, 3 ,2],\n",
    "    'tipo_de_item': ['Eletrônico', 'Vestuário', 'Alimento', 'Eletrônico', 'Alimento'],\n",
    "    'receita_total': [120, 80, 60, 120, 90]\n",
    "    }\n",
    "\n",
    "df = pd.DataFrame(dados)\n",
    "df\n",
    "\n"
   ]
  },
  {
   "cell_type": "code",
   "execution_count": 63,
   "id": "93bb1c15",
   "metadata": {},
   "outputs": [
    {
     "data": {
      "application/vnd.microsoft.datawrangler.viewer.v0+json": {
       "columns": [
        {
         "name": "index",
         "rawType": "int64",
         "type": "integer"
        },
        {
         "name": "nome",
         "rawType": "object",
         "type": "string"
        },
        {
         "name": "qtd_comprada",
         "rawType": "int64",
         "type": "integer"
        },
        {
         "name": "tipo_de_item",
         "rawType": "object",
         "type": "string"
        },
        {
         "name": "receita_total",
         "rawType": "int64",
         "type": "integer"
        }
       ],
       "ref": "8dd584c0-abef-4785-9447-9ef9f032c67c",
       "rows": [
        [
         "1",
         "Produto B",
         "1",
         "Vestuário",
         "80"
        ],
        [
         "2",
         "Produto C",
         "4",
         "Alimento",
         "60"
        ],
        [
         "3",
         "Produto A",
         "3",
         "Eletrônico",
         "120"
        ],
        [
         "4",
         "Produto E",
         "2",
         "Alimento",
         "90"
        ]
       ],
       "shape": {
        "columns": 4,
        "rows": 4
       }
      },
      "text/html": [
       "<div>\n",
       "<style scoped>\n",
       "    .dataframe tbody tr th:only-of-type {\n",
       "        vertical-align: middle;\n",
       "    }\n",
       "\n",
       "    .dataframe tbody tr th {\n",
       "        vertical-align: top;\n",
       "    }\n",
       "\n",
       "    .dataframe thead th {\n",
       "        text-align: right;\n",
       "    }\n",
       "</style>\n",
       "<table border=\"1\" class=\"dataframe\">\n",
       "  <thead>\n",
       "    <tr style=\"text-align: right;\">\n",
       "      <th></th>\n",
       "      <th>nome</th>\n",
       "      <th>qtd_comprada</th>\n",
       "      <th>tipo_de_item</th>\n",
       "      <th>receita_total</th>\n",
       "    </tr>\n",
       "  </thead>\n",
       "  <tbody>\n",
       "    <tr>\n",
       "      <th>1</th>\n",
       "      <td>Produto B</td>\n",
       "      <td>1</td>\n",
       "      <td>Vestuário</td>\n",
       "      <td>80</td>\n",
       "    </tr>\n",
       "    <tr>\n",
       "      <th>2</th>\n",
       "      <td>Produto C</td>\n",
       "      <td>4</td>\n",
       "      <td>Alimento</td>\n",
       "      <td>60</td>\n",
       "    </tr>\n",
       "    <tr>\n",
       "      <th>3</th>\n",
       "      <td>Produto A</td>\n",
       "      <td>3</td>\n",
       "      <td>Eletrônico</td>\n",
       "      <td>120</td>\n",
       "    </tr>\n",
       "    <tr>\n",
       "      <th>4</th>\n",
       "      <td>Produto E</td>\n",
       "      <td>2</td>\n",
       "      <td>Alimento</td>\n",
       "      <td>90</td>\n",
       "    </tr>\n",
       "  </tbody>\n",
       "</table>\n",
       "</div>"
      ],
      "text/plain": [
       "        nome  qtd_comprada tipo_de_item  receita_total\n",
       "1  Produto B             1    Vestuário             80\n",
       "2  Produto C             4     Alimento             60\n",
       "3  Produto A             3   Eletrônico            120\n",
       "4  Produto E             2     Alimento             90"
      ]
     },
     "execution_count": 63,
     "metadata": {},
     "output_type": "execute_result"
    }
   ],
   "source": [
    "# Removendo Duplicatas\n",
    "\n",
    "df.drop_duplicates(keep='last', inplace=True)\n",
    "df"
   ]
  },
  {
   "cell_type": "code",
   "execution_count": 79,
   "id": "640ef2fd",
   "metadata": {},
   "outputs": [
    {
     "data": {
      "application/vnd.microsoft.datawrangler.viewer.v0+json": {
       "columns": [
        {
         "name": "index",
         "rawType": "int64",
         "type": "integer"
        },
        {
         "name": "nome",
         "rawType": "object",
         "type": "string"
        },
        {
         "name": "qtd_comprada",
         "rawType": "int64",
         "type": "integer"
        },
        {
         "name": "tipo_de_item",
         "rawType": "object",
         "type": "string"
        },
        {
         "name": "receita_total",
         "rawType": "int64",
         "type": "integer"
        },
        {
         "name": "preco_item",
         "rawType": "float64",
         "type": "float"
        }
       ],
       "ref": "ead33e5a-0d5b-4432-9ff0-6801b03885c7",
       "rows": [
        [
         "1",
         "Produto B",
         "1",
         "Vestuário",
         "80",
         "80.0"
        ]
       ],
       "shape": {
        "columns": 5,
        "rows": 1
       }
      },
      "text/html": [
       "<div>\n",
       "<style scoped>\n",
       "    .dataframe tbody tr th:only-of-type {\n",
       "        vertical-align: middle;\n",
       "    }\n",
       "\n",
       "    .dataframe tbody tr th {\n",
       "        vertical-align: top;\n",
       "    }\n",
       "\n",
       "    .dataframe thead th {\n",
       "        text-align: right;\n",
       "    }\n",
       "</style>\n",
       "<table border=\"1\" class=\"dataframe\">\n",
       "  <thead>\n",
       "    <tr style=\"text-align: right;\">\n",
       "      <th></th>\n",
       "      <th>nome</th>\n",
       "      <th>qtd_comprada</th>\n",
       "      <th>tipo_de_item</th>\n",
       "      <th>receita_total</th>\n",
       "      <th>preco_item</th>\n",
       "    </tr>\n",
       "  </thead>\n",
       "  <tbody>\n",
       "    <tr>\n",
       "      <th>1</th>\n",
       "      <td>Produto B</td>\n",
       "      <td>1</td>\n",
       "      <td>Vestuário</td>\n",
       "      <td>80</td>\n",
       "      <td>80.0</td>\n",
       "    </tr>\n",
       "  </tbody>\n",
       "</table>\n",
       "</div>"
      ],
      "text/plain": [
       "        nome  qtd_comprada tipo_de_item  receita_total  preco_item\n",
       "1  Produto B             1    Vestuário             80        80.0"
      ]
     },
     "execution_count": 79,
     "metadata": {},
     "output_type": "execute_result"
    }
   ],
   "source": [
    "# Calcular preço unitário do item\n",
    "\n",
    "df['preco_item'] = df['receita_total'] / df['qtd_comprada'] # Inseri coluna com preço do item\n",
    "df_acima_de_50_reais = df[df['preco_item'] >=50] # Filtra apenas itens acima de 50\n",
    "df_acima_de_50_reais\n",
    "\n"
   ]
  }
 ],
 "metadata": {
  "kernelspec": {
   "display_name": "Python 3",
   "language": "python",
   "name": "python3"
  },
  "language_info": {
   "codemirror_mode": {
    "name": "ipython",
    "version": 3
   },
   "file_extension": ".py",
   "mimetype": "text/x-python",
   "name": "python",
   "nbconvert_exporter": "python",
   "pygments_lexer": "ipython3",
   "version": "3.13.7"
  }
 },
 "nbformat": 4,
 "nbformat_minor": 5
}
