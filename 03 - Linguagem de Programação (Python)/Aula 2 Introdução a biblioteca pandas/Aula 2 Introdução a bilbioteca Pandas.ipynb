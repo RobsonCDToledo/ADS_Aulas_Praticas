{
 "cells": [
  {
   "cell_type": "markdown",
   "id": "0821b757",
   "metadata": {},
   "source": [
    "# Introdução a biblioteca Pandas\n",
    "\n",
    "\n",
    "\n",
    "Uma biblioteca Python de alto desempenho e código aberto projetada para simplificar a manipulação e análise de dados organizados em tabelas e séries temporais. "
   ]
  },
  {
   "cell_type": "markdown",
   "id": "8152e049",
   "metadata": {},
   "source": [
    "##### Trabalhando com Series no Pandas"
   ]
  },
  {
   "cell_type": "code",
   "execution_count": null,
   "id": "1434e6a3",
   "metadata": {},
   "outputs": [
    {
     "name": "stdout",
     "output_type": "stream",
     "text": [
      "0    10\n",
      "1    20\n",
      "2    30\n",
      "3    40\n",
      "4    50\n",
      "dtype: int64\n"
     ]
    }
   ],
   "source": [
    "import pandas as pd\n",
    "# Crindo uma lista simples para trabalhar como series\n",
    "\n",
    "exemplo1 = [10, 20, 30, 40, 50] # lista simples\n",
    "series1 = pd.Series(exemplo1) # criando a series\n",
    "print(series1) # imprimindo a series"
   ]
  },
  {
   "cell_type": "markdown",
   "id": "5ad7e745",
   "metadata": {},
   "source": [
    "##### Trabalhando com Dicionarios (Chave e valor)"
   ]
  },
  {
   "cell_type": "code",
   "execution_count": 5,
   "id": "f56f5663",
   "metadata": {},
   "outputs": [
    {
     "name": "stdout",
     "output_type": "stream",
     "text": [
      "a    10\n",
      "b    20\n",
      "c    30\n",
      "d    40\n",
      "e    50\n",
      "dtype: int64\n"
     ]
    }
   ],
   "source": [
    "# Criando um dicionario com pares _Chave:valor_ para trabalhar com series\n",
    "exemplo2 = {'a':10, 'b':20, 'c':30, 'd':40, 'e':50} # dicionario\n",
    "series2 = pd.Series(exemplo2) # criando a series   \n",
    "print(series2) # imprimindo a series\n"
   ]
  },
  {
   "cell_type": "code",
   "execution_count": null,
   "id": "7219b2fc",
   "metadata": {},
   "outputs": [
    {
     "name": "stdout",
     "output_type": "stream",
     "text": [
      "<class 'list'>\n",
      "1\n"
     ]
    }
   ],
   "source": [
    "\n",
    "url = 'https://www.fdic.gov/resources/resolutions/bank-failures/failed-bank-list/'\n",
    "dfs = pd.read_html(url)\n",
    "\n",
    "\n",
    "print(type(dfs))\n",
    "print(len(dfs))"
   ]
  },
  {
   "cell_type": "code",
   "execution_count": 10,
   "id": "10ee6472",
   "metadata": {},
   "outputs": [
    {
     "name": "stdout",
     "output_type": "stream",
     "text": [
      "Bank Name                object\n",
      "City                     object\n",
      "State                    object\n",
      "Cert                      int64\n",
      "Acquiring Institution    object\n",
      "Closing Date             object\n",
      "Fund  Sort ascending      int64\n",
      "dtype: object\n"
     ]
    }
   ],
   "source": [
    "df_bancos = dfs[0]\n",
    "print(df_bancos.dtypes)"
   ]
  },
  {
   "cell_type": "code",
   "execution_count": 11,
   "id": "a812bf5f",
   "metadata": {},
   "outputs": [
    {
     "data": {
      "application/vnd.microsoft.datawrangler.viewer.v0+json": {
       "columns": [
        {
         "name": "index",
         "rawType": "int64",
         "type": "integer"
        },
        {
         "name": "Bank Name",
         "rawType": "object",
         "type": "string"
        },
        {
         "name": "City",
         "rawType": "object",
         "type": "string"
        },
        {
         "name": "State",
         "rawType": "object",
         "type": "string"
        },
        {
         "name": "Cert",
         "rawType": "int64",
         "type": "integer"
        },
        {
         "name": "Acquiring Institution",
         "rawType": "object",
         "type": "string"
        },
        {
         "name": "Closing Date",
         "rawType": "object",
         "type": "string"
        },
        {
         "name": "Fund  Sort ascending",
         "rawType": "int64",
         "type": "integer"
        }
       ],
       "ref": "b27238ab-4a63-4e73-b14a-db375432910b",
       "rows": [
        [
         "0",
         "The Santa Anna National Bank",
         "Santa Anna",
         "Texas",
         "5520",
         "Coleman County State Bank",
         "June 27, 2025",
         "10549"
        ],
        [
         "1",
         "Pulaski Savings Bank",
         "Chicago",
         "Illinois",
         "28611",
         "Millennium Bank",
         "January 17, 2025",
         "10548"
        ],
        [
         "2",
         "The First National Bank of Lindsay",
         "Lindsay",
         "Oklahoma",
         "4134",
         "First Bank & Trust Co.",
         "October 18, 2024",
         "10547"
        ],
        [
         "3",
         "Republic First Bank dba Republic Bank",
         "Philadelphia",
         "Pennsylvania",
         "27332",
         "Fulton Bank, National Association",
         "April 26, 2024",
         "10546"
        ],
        [
         "4",
         "Citizens Bank",
         "Sac City",
         "Iowa",
         "8758",
         "Iowa Trust & Savings Bank",
         "November 3, 2023",
         "10545"
        ]
       ],
       "shape": {
        "columns": 7,
        "rows": 5
       }
      },
      "text/html": [
       "<div>\n",
       "<style scoped>\n",
       "    .dataframe tbody tr th:only-of-type {\n",
       "        vertical-align: middle;\n",
       "    }\n",
       "\n",
       "    .dataframe tbody tr th {\n",
       "        vertical-align: top;\n",
       "    }\n",
       "\n",
       "    .dataframe thead th {\n",
       "        text-align: right;\n",
       "    }\n",
       "</style>\n",
       "<table border=\"1\" class=\"dataframe\">\n",
       "  <thead>\n",
       "    <tr style=\"text-align: right;\">\n",
       "      <th></th>\n",
       "      <th>Bank Name</th>\n",
       "      <th>City</th>\n",
       "      <th>State</th>\n",
       "      <th>Cert</th>\n",
       "      <th>Acquiring Institution</th>\n",
       "      <th>Closing Date</th>\n",
       "      <th>Fund  Sort ascending</th>\n",
       "    </tr>\n",
       "  </thead>\n",
       "  <tbody>\n",
       "    <tr>\n",
       "      <th>0</th>\n",
       "      <td>The Santa Anna National Bank</td>\n",
       "      <td>Santa Anna</td>\n",
       "      <td>Texas</td>\n",
       "      <td>5520</td>\n",
       "      <td>Coleman County State Bank</td>\n",
       "      <td>June 27, 2025</td>\n",
       "      <td>10549</td>\n",
       "    </tr>\n",
       "    <tr>\n",
       "      <th>1</th>\n",
       "      <td>Pulaski Savings Bank</td>\n",
       "      <td>Chicago</td>\n",
       "      <td>Illinois</td>\n",
       "      <td>28611</td>\n",
       "      <td>Millennium Bank</td>\n",
       "      <td>January 17, 2025</td>\n",
       "      <td>10548</td>\n",
       "    </tr>\n",
       "    <tr>\n",
       "      <th>2</th>\n",
       "      <td>The First National Bank of Lindsay</td>\n",
       "      <td>Lindsay</td>\n",
       "      <td>Oklahoma</td>\n",
       "      <td>4134</td>\n",
       "      <td>First Bank &amp; Trust Co.</td>\n",
       "      <td>October 18, 2024</td>\n",
       "      <td>10547</td>\n",
       "    </tr>\n",
       "    <tr>\n",
       "      <th>3</th>\n",
       "      <td>Republic First Bank dba Republic Bank</td>\n",
       "      <td>Philadelphia</td>\n",
       "      <td>Pennsylvania</td>\n",
       "      <td>27332</td>\n",
       "      <td>Fulton Bank, National Association</td>\n",
       "      <td>April 26, 2024</td>\n",
       "      <td>10546</td>\n",
       "    </tr>\n",
       "    <tr>\n",
       "      <th>4</th>\n",
       "      <td>Citizens Bank</td>\n",
       "      <td>Sac City</td>\n",
       "      <td>Iowa</td>\n",
       "      <td>8758</td>\n",
       "      <td>Iowa Trust &amp; Savings Bank</td>\n",
       "      <td>November 3, 2023</td>\n",
       "      <td>10545</td>\n",
       "    </tr>\n",
       "  </tbody>\n",
       "</table>\n",
       "</div>"
      ],
      "text/plain": [
       "                               Bank Name          City         State   Cert  \\\n",
       "0           The Santa Anna National Bank    Santa Anna         Texas   5520   \n",
       "1                   Pulaski Savings Bank       Chicago      Illinois  28611   \n",
       "2     The First National Bank of Lindsay       Lindsay      Oklahoma   4134   \n",
       "3  Republic First Bank dba Republic Bank  Philadelphia  Pennsylvania  27332   \n",
       "4                          Citizens Bank      Sac City          Iowa   8758   \n",
       "\n",
       "               Acquiring Institution      Closing Date  Fund  Sort ascending  \n",
       "0          Coleman County State Bank     June 27, 2025                 10549  \n",
       "1                    Millennium Bank  January 17, 2025                 10548  \n",
       "2             First Bank & Trust Co.  October 18, 2024                 10547  \n",
       "3  Fulton Bank, National Association    April 26, 2024                 10546  \n",
       "4          Iowa Trust & Savings Bank  November 3, 2023                 10545  "
      ]
     },
     "execution_count": 11,
     "metadata": {},
     "output_type": "execute_result"
    }
   ],
   "source": [
    "df_bancos.head()"
   ]
  },
  {
   "cell_type": "code",
   "execution_count": null,
   "id": "8c87fb49",
   "metadata": {},
   "outputs": [],
   "source": []
  }
 ],
 "metadata": {
  "kernelspec": {
   "display_name": "Python 3",
   "language": "python",
   "name": "python3"
  },
  "language_info": {
   "codemirror_mode": {
    "name": "ipython",
    "version": 3
   },
   "file_extension": ".py",
   "mimetype": "text/x-python",
   "name": "python",
   "nbconvert_exporter": "python",
   "pygments_lexer": "ipython3",
   "version": "3.13.7"
  }
 },
 "nbformat": 4,
 "nbformat_minor": 5
}
