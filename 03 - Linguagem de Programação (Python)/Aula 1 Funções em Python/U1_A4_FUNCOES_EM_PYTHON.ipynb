{
 "cells": [
  {
   "cell_type": "markdown",
   "id": "28bf2c71",
   "metadata": {},
   "source": [
    "# NOME DA DISCIPLINA: LINGUAGEM DE PROGRAMAÇÃO\n",
    "### Unidade: 1 – INTRODUÇÃO A LINGUAGEM PYTHON\n",
    "### Aula: 4 - FUNÇÕES_EM_PYTHON"
   ]
  },
  {
   "cell_type": "markdown",
   "id": "74a784ee",
   "metadata": {},
   "source": [
    "### Parametros"
   ]
  },
  {
   "cell_type": "code",
   "execution_count": 36,
   "id": "997d4c92",
   "metadata": {},
   "outputs": [],
   "source": [
    "CORTE_APROVACAO = 7.0  # altere aqui se quiser outro ponto de corte"
   ]
  },
  {
   "cell_type": "markdown",
   "id": "f2cba3ed",
   "metadata": {},
   "source": [
    "# Funcionalidade Inserir notas"
   ]
  },
  {
   "cell_type": "code",
   "execution_count": 37,
   "id": "7bd0d375",
   "metadata": {},
   "outputs": [],
   "source": [
    "def inserir_notas(mensagem=\"Digite as notas do aluno (ou digite X ou sair para finalizar): \"):\n",
    "    # Função para capturar as notas do aluno.\n",
    "    lista_notas = [] # Lista para armazenar as notas inseridas.\n",
    "    while True:\n",
    "        nota = input(mensagem).strip() # Captura a entrada do usuário já aplicando tratamento de dados.\n",
    "        if nota == '':\n",
    "            print(\"Entrada não pode ser vazia. Insira as notas ou os critérios de saída.\")\n",
    "            # Critério para caso não seja digitado nenhum valor ele solicita novamente.\n",
    "            continue\n",
    "        if nota.upper() in ['X', 'SAIR']:\n",
    "            break # Critério de saída do loop.\n",
    "        try:\n",
    "            nota = float(nota)\n",
    "            # Critério para que seja obrigatório inserir notas entre 0 e 10.\n",
    "            if 0 <= nota <= 10:\n",
    "                # Agrupa as notas válidas na lista.\n",
    "                lista_notas.append(nota)\n",
    "            else:\n",
    "                # Caso nota seja inválida solicita nova entrada.\n",
    "                print(\"Nota inválida. Digite uma nota entre 0 e 10.\")\n",
    "        except ValueError:\n",
    "            # Caso tudo de errado retorna mensagem de erro abaixo.\n",
    "            print(\"Entrada inválida. Por favor, digite um número ou 'X' para sair.\")\n",
    "    return lista_notas"
   ]
  },
  {
   "cell_type": "markdown",
   "id": "ff5e924d",
   "metadata": {},
   "source": [
    "### Funcionalidade Calcular Média das notas"
   ]
  },
  {
   "cell_type": "code",
   "execution_count": 38,
   "id": "2da85b08",
   "metadata": {},
   "outputs": [],
   "source": [
    "def calcular_media(lista_notas):\n",
    "    # Função para calcular a média das notas.\n",
    "    if not lista_notas:\n",
    "        return 0.0 # Retorna 0.0 caso a lista esteja vazia.\n",
    "    return sum(lista_notas) / len(lista_notas) # Calcula e retorna a média."
   ]
  },
  {
   "cell_type": "markdown",
   "id": "a2c8c989",
   "metadata": {},
   "source": [
    "### Funcionalidade Verificar Situação Aluno"
   ]
  },
  {
   "cell_type": "code",
   "execution_count": 39,
   "id": "2fc5eb56",
   "metadata": {},
   "outputs": [],
   "source": [
    "def verificar_situacao_aluno(media, ponto_corte=CORTE_APROVACAO):\n",
    "    # Função para verificar a situação do aluno com base na média e ponto de corte.\n",
    "    if media >= ponto_corte:\n",
    "        return \"Aprovado\"\n",
    "    else:\n",
    "        return \"Reprovado\""
   ]
  },
  {
   "cell_type": "markdown",
   "id": "6d9c799d",
   "metadata": {},
   "source": [
    "### Funcionalidade de Gerar lista com nome dos Aluno, Notas, Média e Situação"
   ]
  },
  {
   "cell_type": "code",
   "execution_count": 40,
   "id": "ef805cd7",
   "metadata": {},
   "outputs": [],
   "source": [
    "def notas_alunos():\n",
    "    # Função para capturar os nomes dos alunos antes de chamar a função inserir_notas.\n",
    "    # Lista vazia para armazenar os nomes dos alunos e suas respectivas notas.\n",
    "    alunos = {}\n",
    "    while True:\n",
    "        nome = input(\"Digite o nome do Aluno (ou digite X ou sair para finalizar): \").strip() # Captura a entrada do usuário já aplicando tratamento\n",
    "        if nome == '': # Critério para caso não seja digitado nenhum valor ele solicita novamente.\n",
    "            print(\"Entrada não pode ser vazia. Insira o nome do aluno ou os critérios de saída.\")\n",
    "            continue\n",
    "        if nome.upper() in ['X', 'SAIR']:   # Critério de saída do loop. \n",
    "            break\n",
    "        if nome in alunos: # Verifica se o aluno já foi cadastrado.\n",
    "            print(\"Aluno já cadastrado. Insira outro nome.\")\n",
    "            continue\n",
    "        alunos.setdefault(nome, []) # Inicializa a lista de notas para o aluno.\n",
    "        prompt_notas = f\"Digite as notas do aluno {nome} entre 0 ou 10 (ou digite X ou sair para finalizar): \"\n",
    "        notas = inserir_notas(prompt_notas) # Chama a função para inserir as notas do aluno.\n",
    "        if not notas: # Verifica se nenhuma nota foi inserida.\n",
    "            print(f\"Nenhuma nota inserida para o aluno {nome}. Aluno não será cadastrado.\")\n",
    "            continue\n",
    "        alunos[nome].extend(notas) # Adiciona as notas inseridas à lista do aluno.\n",
    "    return alunos"
   ]
  },
  {
   "cell_type": "markdown",
   "id": "9b416040",
   "metadata": {},
   "source": [
    "### Exibir Relatório com resultados das notas;"
   ]
  },
  {
   "cell_type": "code",
   "execution_count": null,
   "id": "31e3bdfc",
   "metadata": {},
   "outputs": [
    {
     "name": "stdout",
     "output_type": "stream",
     "text": [
      "\n",
      "Notas dos Alunos Cadastrados:\n",
      "Aluno 1, Notas: [7.5, 5.5, 3.4, 5.2, 7.3], Média das Notas: 5.78, Status: Reprovado\n",
      "Aluno 2, Notas: [7.8, 8.1, 9.5, 10.0, 6.5], Média das Notas: 8.38, Status: Aprovado\n",
      "Aluno 3, Notas: [6.8, 9.7, 8.1, 0.0, 5.5], Média das Notas: 6.02, Status: Reprovado\n"
     ]
    }
   ],
   "source": [
    "if __name__ == \"__main__\":\n",
    "    preencher_alunos = notas_alunos() # Chama a função para iniciar o processo de cadastro dos alunos e suas notas.\n",
    "    print(\"\\nNotas dos Alunos Cadastrados:\") # Exibe as notas dos alunos cadastrados.\n",
    "    for aluno, notas in preencher_alunos.items(): # captura o nome do aluno e suas respectivas notas.\n",
    "        media = calcular_media(notas) # Calcula a média das notas do aluno.\n",
    "        status = verificar_situacao_aluno(media) # Verifica a situação do aluno com base na média.\n",
    "        # Exibe o nome do aluno, suas notas, a média e a situação (Aprovado/Reprovado).\n",
    "        print(f\"{aluno}, Notas: {notas}, Média das Notas: {media:.2f}, Status: {status}\")"
   ]
  }
 ],
 "metadata": {
  "kernelspec": {
   "display_name": "Python 3",
   "language": "python",
   "name": "python3"
  },
  "language_info": {
   "codemirror_mode": {
    "name": "ipython",
    "version": 3
   },
   "file_extension": ".py",
   "mimetype": "text/x-python",
   "name": "python",
   "nbconvert_exporter": "python",
   "pygments_lexer": "ipython3",
   "version": "3.13.7"
  }
 },
 "nbformat": 4,
 "nbformat_minor": 5
}
