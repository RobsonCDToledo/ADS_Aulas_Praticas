{
 "cells": [
  {
   "cell_type": "markdown",
   "id": "54df639b",
   "metadata": {},
   "source": [
    "# ROTEIRO DE AULA PRÁTICA NOME DA DISCIPLINA: \n",
    "## LINGUAGEM DE PROGRAMAÇÃO \n",
    "### Unidade: 2 – Explorando Recursos do Python Aula: 4 – Bibliotecas e Módulos Em Python"
   ]
  },
  {
   "cell_type": "markdown",
   "id": "b9f0b7bb",
   "metadata": {},
   "source": [
    "# OBJETIVOS \n",
    "\n",
    "* ✓ Compreender a importância dos recursos de Python; \n",
    "* ✓ Realizar a aplicação das estruturas em códigos"
   ]
  },
  {
   "cell_type": "markdown",
   "id": "cfea031e",
   "metadata": {},
   "source": [
    "# Proposta da Atividade\n",
    "\n",
    "Você foi contratado para desenvolver um sistema simples de gerenciamento de livros em uma biblioteca.  \n",
    "O sistema deve permitir cadastrar novos livros, listar todos os livros disponíveis, buscar um livro pelo título, e gerar um gráfico com a quantidade de livros por gênero. \n",
    "\n",
    "### Passo 1: Definir a classe Livro \n",
    "• Comece definindo a estrutura básica de um livro usando uma classe em Python.  \n",
    "• Cada livro terá atributos como título, autor, gênero e quantidade disponível.  \n",
    "\n",
    "### Passo 2: Criar a lista de livros \n",
    "• Inicialize uma lista vazia para armazenar os livros que serão cadastrados. \n",
    "\n",
    "### Passo 3: Implementar funções para gerenciar os livros \n",
    "• Função para cadastrar um novo livro  \n",
    "• Função para listar todos os livros 3  \n",
    "• Função para buscar um livro pelo título  \n",
    "\n",
    "### Passo 4: Utilizar a biblioteca Matplotlib para gerar um gráfico \n",
    "• Instalação da Matplotlib  \n",
    "• Gerar o gráfico de quantidade de livros por gênero  \n",
    "\n",
    "### Passo 5: Testar o sistema\n"
   ]
  },
  {
   "cell_type": "markdown",
   "id": "d29d6bbe",
   "metadata": {},
   "source": [
    "# Execução atividade proposta"
   ]
  },
  {
   "cell_type": "markdown",
   "id": "c90eaf3a",
   "metadata": {},
   "source": [
    "##### Bloco de importações"
   ]
  },
  {
   "cell_type": "markdown",
   "id": "de3c10c6",
   "metadata": {},
   "source": [
    "Bibliotecas utilizadas para realização da atividade proposta"
   ]
  },
  {
   "cell_type": "code",
   "execution_count": null,
   "id": "632d5488",
   "metadata": {},
   "outputs": [],
   "source": [
    "# Bloco de Import para trazer as bibliotecas necessárias\n",
    "import matplotlib.pyplot as plt\n",
    "from collections import defaultdict"
   ]
  },
  {
   "cell_type": "markdown",
   "id": "787a4c6e",
   "metadata": {},
   "source": [
    "##### Bloco de Catálogos:"
   ]
  },
  {
   "cell_type": "markdown",
   "id": "f458633f",
   "metadata": {},
   "source": [
    "Catálogos de livros utilizadas tanto para serem inseridos em bloco dentro do acervo ou de forma manual um a um:"
   ]
  },
  {
   "cell_type": "code",
   "execution_count": 128,
   "id": "9dd538a5",
   "metadata": {},
   "outputs": [],
   "source": [
    "# Bloco com catalogos de livros para testes\n",
    "\n",
    "# --- Catálogo base (5 livros) --- para inserir todos automaticamente no acervo:\n",
    "catalogo_fixo = [\n",
    "    {\"titulo\": \"Clean Code\", \"autor\": \"Robert C. Martin\", \"genero\": \"Tecnologia\", \"quantidade\": 5},\n",
    "    {\"titulo\": \"Dom Casmurro\", \"autor\": \"Machado de Assis\", \"genero\": \"Romance\", \"quantidade\": 8},\n",
    "    {\"titulo\": \"O Senhor dos Anéis\", \"autor\": \"J. R. R. Tolkien\", \"genero\": \"Fantasia\", \"quantidade\": 4},\n",
    "    {\"titulo\": \"1984\", \"autor\": \"George Orwell\", \"genero\": \"Distopia\", \"quantidade\": 6},\n",
    "    {\"titulo\": \"A Arte da Guerra\", \"autor\": \"Sun Tzu\", \"genero\": \"Estratégia\", \"quantidade\": 7},\n",
    "]\n",
    "# --- Catalogo de recomendação (5 livros) --- para inserir manualmente no acervo:\n",
    "catalogo_recomendacao = [\n",
    "    {\"titulo\": \"O Pequeno Príncipe\", \"autor\": \"Antoine de Saint-Exupéry\", \"genero\": \"Fábula\", \"quantidade\": 10},\n",
    "    {\"titulo\": \"Sapiens: Uma Breve História da Humanidade\", \"autor\": \"Yuval Noah Harari\", \"genero\": \"História\", \"quantidade\": 3},\n",
    "    {\"titulo\": \"O Hobbit\", \"autor\": \"J. R. R. Tolkien\", \"genero\": \"Fantasia\", \"quantidade\": 9},\n",
    "    {\"titulo\": \"Orgulho e Preconceito\", \"autor\": \"Jane Austen\", \"genero\": \"Romance\", \"quantidade\": 6},\n",
    "    {\"titulo\": \"Crime e Castigo\", \"autor\": \"Fiódor Dostoiévski\", \"genero\": \"Clássico\", \"quantidade\": 4},\n",
    "]\n"
   ]
  },
  {
   "cell_type": "markdown",
   "id": "464624ff",
   "metadata": {},
   "source": [
    "##### Definição das classes e funções"
   ]
  },
  {
   "cell_type": "markdown",
   "id": "321eebe2",
   "metadata": {},
   "source": [
    "Criando o script base com as classes utilizadas (Livro e Acervo), aplicando conceitos de classe pai e filha.  \n",
    "tambem é neste bloco que criamos as definições que vão compor as funcionalidades do sistema.   \n",
    "*    **cadastrar_livro()** esta função herda os dados enviados pela função **cadastrar_livro_interativo()** e faz uma validação para identificar se o livro já está cadastrado no acervo com base no autor e nome do livro.  \n",
    "*    **cadastrar_livro_interativo()** gera o cadastro manual para o usuário inserir as novas informações.  \n",
    "*    **listar_livros()** gera uma lista de todos os livros para serem consultados posteriormente.  \n",
    "*    **exibir_livros()** formata a lista gerada em **listar_livros()** em um formato de tabela mais agradável visualmente.  \n",
    "*    **buscar_por_titulo()** executa uma busca dentro da lista de livros com base no seu titulo e retorna se ele existe ou não.  "
   ]
  },
  {
   "cell_type": "code",
   "execution_count": null,
   "id": "80d49442",
   "metadata": {},
   "outputs": [
    {
     "name": "stdout",
     "output_type": "stream",
     "text": [
      "Sistema de Gerenciamento de Livros na Biblioteca\n",
      "===============================================\n",
      "Acervo inicial: Vazio\n"
     ]
    }
   ],
   "source": [
    "class Livro:\n",
    "    def __init__(self, titulo, autor, genero, quantidade):\n",
    "        self.titulo = titulo\n",
    "        self.autor = autor\n",
    "        self.genero = genero\n",
    "        self.quantidade = quantidade\n",
    "\n",
    "class Acervo:\n",
    "    def __init__(self):\n",
    "        self.livros = []\n",
    "\n",
    "    def cadastrar_livro(self, livro: Livro):\n",
    "        # Função para cadastrar um novo livro, evitando duplicatas\n",
    "        chave = (livro.titulo.strip().lower(), livro.autor.strip().lower())\n",
    "        # Verifica se já existe um livro com mesmo título e autor\n",
    "        ja_existe = any(\n",
    "            (l.titulo.strip().lower(), l.autor.strip().lower()) == chave\n",
    "            for l in self.livros\n",
    "        )\n",
    "        # Se já existe, avisa e não cadastra\n",
    "        if ja_existe:\n",
    "            print(f\"Aviso: '{livro.titulo}' de {livro.autor} já está cadastrado.\")\n",
    "            return\n",
    "        self.livros.append(livro)\n",
    "        print(f\"Livro '{livro.titulo}' cadastrado com sucesso!\")\n",
    "\n",
    "    def cadastrar_livro_interativo(self):\n",
    "        # Função para cadastrar um novo livro via input\n",
    "        titulo = input(\"Digite o título do livro: \").strip()\n",
    "        autor = input(\"Digite o autor do livro: \").strip()\n",
    "        genero = input(\"Digite o gênero do livro: \").strip()\n",
    "        quantidade = int(input(\"Digite a quantidade disponível: \").strip())\n",
    "        self.cadastrar_livro(Livro(titulo, autor, genero, quantidade))\n",
    "\n",
    "    def listar_livros(self):\n",
    "        \"\"\"Retorna uma cópia da lista de livros.\"\"\"\n",
    "        return list(self.livros)\n",
    "\n",
    "    def exibir_livros(self):\n",
    "        livros = self.listar_livros()\n",
    "        if not livros:\n",
    "            print(\"Acervo está vazio.\")\n",
    "        else:\n",
    "            print(f\"{'Título':40} | {'Autor':25} | {'Gênero':15} | Qtd\")\n",
    "            print(\"-\"*40 + \"-+-\" + \"-\"*25 + \"-+-\" + \"-\"*15 + \"-+-\" + \"-\"*3)\n",
    "            for l in livros:\n",
    "                print(f\"{l.titulo[:40]:40} | {l.autor[:25]:25} | {l.genero[:15]:15} | {l.quantidade:3d}\")\n",
    "\n",
    "    def buscar_por_titulo(self, termo: str):\n",
    "        t = termo.strip().lower()\n",
    "        return [l for l in self.livros if t in l.titulo.lower()]\n",
    "    \n",
    "    \n",
    "if __name__ == \"__main__\":\n",
    "    acervo = Acervo()\n",
    "    print(\"Sistema de Gerenciamento de Livros na Biblioteca\")\n",
    "    print(\"===============================================\")\n",
    "    print(f'Acervo inicial: {\"Vazio\" if acervo.listar_livros() == [] else \"Contém livros\"}')\n",
    "    "
   ]
  },
  {
   "cell_type": "markdown",
   "id": "eaf928e5",
   "metadata": {},
   "source": [
    "##### Bloco para subir rapidamente livros no acervo:"
   ]
  },
  {
   "cell_type": "markdown",
   "id": "8806df15",
   "metadata": {},
   "source": [
    "* Se livro já estiver cadastrado retorna mensagem informando que já existe o cadastro. "
   ]
  },
  {
   "cell_type": "code",
   "execution_count": 131,
   "id": "b9ae6452",
   "metadata": {},
   "outputs": [
    {
     "name": "stdout",
     "output_type": "stream",
     "text": [
      "Livro 'Clean Code' cadastrado com sucesso!\n",
      "Livro 'Dom Casmurro' cadastrado com sucesso!\n",
      "Livro 'O Senhor dos Anéis' cadastrado com sucesso!\n",
      "Livro '1984' cadastrado com sucesso!\n",
      "Livro 'A Arte da Guerra' cadastrado com sucesso!\n"
     ]
    }
   ],
   "source": [
    "# --- Catálogo base (5 livros) ---\n",
    "def subir_catalogo_teste(acervo):\n",
    "    #Cadastra os 5 livros do catálogo fixo no acervo (evita duplicados).\n",
    "    for item in catalogo_fixo: # para cada dicionário no catálogo\n",
    "        try:\n",
    "            qtd = int(item[\"quantidade\"]) # tenta converter para inteiro\n",
    "            if qtd < 0:\n",
    "                print(f\"Aviso: quantidade negativa para '{item['titulo']}'. Ignorando.\") # ignora\n",
    "                continue\n",
    "        except (KeyError, ValueError): # se faltar a chave ou não for inteiro\n",
    "            print(f\"Aviso: quantidade inválida para '{item.get('titulo','<sem título>')}'. Ignorando.\")\n",
    "            continue\n",
    "        # cadastra o livro\n",
    "        acervo.cadastrar_livro(\n",
    "            Livro(item[\"titulo\"], item[\"autor\"], item[\"genero\"], qtd)\n",
    "        )\n",
    "# --- Exemplo de uso ---\n",
    "subir_catalogo_teste(acervo)\n"
   ]
  },
  {
   "cell_type": "markdown",
   "id": "bd558cfc",
   "metadata": {},
   "source": [
    "##### Exibir livros cadastrados"
   ]
  },
  {
   "cell_type": "code",
   "execution_count": 132,
   "id": "711df9a5",
   "metadata": {},
   "outputs": [
    {
     "name": "stdout",
     "output_type": "stream",
     "text": [
      "Título                                   | Autor                     | Gênero          | Qtd\n",
      "-----------------------------------------+---------------------------+-----------------+----\n",
      "Clean Code                               | Robert C. Martin          | Tecnologia      |   5\n",
      "Dom Casmurro                             | Machado de Assis          | Romance         |   8\n",
      "O Senhor dos Anéis                       | J. R. R. Tolkien          | Fantasia        |   4\n",
      "1984                                     | George Orwell             | Distopia        |   6\n",
      "A Arte da Guerra                         | Sun Tzu                   | Estratégia      |   7\n"
     ]
    }
   ],
   "source": [
    "# Exibir todos os livros do acervo em formato de tabela\n",
    "exibir = acervo.exibir_livros()\n",
    "exibir\n"
   ]
  },
  {
   "cell_type": "markdown",
   "id": "e899f778",
   "metadata": {},
   "source": [
    "##### Caso queira zerar seu acervo rodar o código abaixo:"
   ]
  },
  {
   "cell_type": "code",
   "execution_count": 110,
   "id": "94df9368",
   "metadata": {},
   "outputs": [
    {
     "name": "stdout",
     "output_type": "stream",
     "text": [
      "Acervo limpo. Todos os livros foram removidos.\n"
     ]
    }
   ],
   "source": [
    "def limpar_acervo():\n",
    "    \"\"\"Limpa o acervo, removendo todos os livros.\"\"\"\n",
    "    acervo.livros.clear()\n",
    "    print(\"Acervo limpo. Todos os livros foram removidos.\")\n",
    "\n",
    "limpar_acervo()"
   ]
  },
  {
   "cell_type": "markdown",
   "id": "12c6fead",
   "metadata": {},
   "source": [
    "##### Recomendações de livros:"
   ]
  },
  {
   "cell_type": "markdown",
   "id": "9e92ce7e",
   "metadata": {},
   "source": [
    "Abaixo segue um código que gera trás mais 5 livros de outro catalogo para serem cadastrados no seu acervo para testes "
   ]
  },
  {
   "cell_type": "code",
   "execution_count": 139,
   "id": "71fe2c6c",
   "metadata": {},
   "outputs": [
    {
     "name": "stdout",
     "output_type": "stream",
     "text": [
      "O Pequeno Príncipe — Antoine de Saint-Exupéry | Fábula | qtd: 10\n",
      "Sapiens: Uma Breve História da Humanidade — Yuval Noah Harari | História | qtd: 3\n",
      "O Hobbit — J. R. R. Tolkien | Fantasia | qtd: 9\n",
      "Orgulho e Preconceito — Jane Austen | Romance | qtd: 6\n",
      "Crime e Castigo — Fiódor Dostoiévski | Clássico | qtd: 4\n"
     ]
    }
   ],
   "source": [
    "# livros de teste para cadastrar no acervo a partir da recomendação.\n",
    "for i in catalogo_recomendacao:\n",
    "    print(f\"{i['titulo']} — {i['autor']} | {i['genero']} | qtd: {i['quantidade']}\")"
   ]
  },
  {
   "cell_type": "markdown",
   "id": "0537a1c3",
   "metadata": {},
   "source": [
    "##### Cadastrar manualmente livros no acervo:"
   ]
  },
  {
   "cell_type": "code",
   "execution_count": 140,
   "id": "e7b63889",
   "metadata": {},
   "outputs": [
    {
     "name": "stdout",
     "output_type": "stream",
     "text": [
      "Livro 'O Hobbit' cadastrado com sucesso!\n"
     ]
    }
   ],
   "source": [
    "# Cadastrar manualmente livros no acervo:\n",
    "Cadastrar = acervo.cadastrar_livro_interativo()\n",
    "Cadastrar"
   ]
  },
  {
   "cell_type": "code",
   "execution_count": 144,
   "id": "b0f550fa",
   "metadata": {},
   "outputs": [
    {
     "name": "stdout",
     "output_type": "stream",
     "text": [
      "Título                                   | Autor                     | Gênero          | Qtd\n",
      "-----------------------------------------+---------------------------+-----------------+----\n",
      "Clean Code                               | Robert C. Martin          | Tecnologia      |   5\n",
      "Dom Casmurro                             | Machado de Assis          | Romance         |   8\n",
      "O Senhor dos Anéis                       | J. R. R. Tolkien          | Fantasia        |   4\n",
      "1984                                     | George Orwell             | Distopia        |   6\n",
      "A Arte da Guerra                         | Sun Tzu                   | Estratégia      |   7\n",
      "O Hobbit                                 | J. R. R. Tolkien          | Fantasia        |   9\n"
     ]
    }
   ],
   "source": [
    "# Exibir exibir novamente para ver novos livros cadastrados\n",
    "exibir = acervo.exibir_livros()\n",
    "exibir"
   ]
  },
  {
   "cell_type": "markdown",
   "id": "d1e3304d",
   "metadata": {},
   "source": [
    "##### Consultar Livros pelo Titulo:"
   ]
  },
  {
   "cell_type": "markdown",
   "id": "a7c6d60f",
   "metadata": {},
   "source": [
    "Execute o bloco abaixo para iniciar uma busca de um livro pelo seu título:"
   ]
  },
  {
   "cell_type": "code",
   "execution_count": null,
   "id": "8156bf42",
   "metadata": {},
   "outputs": [
    {
     "name": "stdout",
     "output_type": "stream",
     "text": [
      "Livro encontrado: O Hobbit do(a) autor J. R. R. Tolkien na classe Fantasia com 9 unidades disponíveis.\n"
     ]
    }
   ],
   "source": [
    "# Consultar Livros pelo Titulo:\n",
    "Buscar = acervo.buscar_por_titulo(input(\"Digite o título do livro para busca: \"))\n",
    "if not Buscar:\n",
    "    print(\"Livro não encontrado.\")\n",
    "else:\n",
    "    for livro in Buscar:\n",
    "        print(f\"Livro encontrado: {livro.titulo} do(a) autor {livro.autor} na classe {livro.genero} com {livro.quantidade} unidades disponíveis.\")\n",
    "# Se livro não for encontrado, a lista estará vazia.\n"
   ]
  },
  {
   "cell_type": "markdown",
   "id": "22a1a257",
   "metadata": {},
   "source": [
    "# Visualização Gráfica do Acervo:"
   ]
  },
  {
   "cell_type": "code",
   "execution_count": null,
   "id": "752602c9",
   "metadata": {},
   "outputs": [
    {
     "data": {
      "image/png": "[encoded data removed]",
      "text/plain": [
       "<Figure size 640x480 with 1 Axes>"
      ]
     },
     "metadata": {},
     "output_type": "display_data"
    }
   ],
   "source": [
    "# Primeiro agrupa os dados por gênero e somar as quantidades\n",
    "genero_qtd = defaultdict(int)\n",
    "for l in acervo.listar_livros():\n",
    "    genero_qtd[l.genero] += l.quantidade\n",
    "\n",
    "# Checa se há dados para plotar\n",
    "if not genero_qtd:\n",
    "    print(\"Acervo vazio: nada para plotar.\")\n",
    "else:\n",
    "    # Cria os eixos do gráfico\n",
    "    eixo_X = list(genero_qtd.keys())\n",
    "    eixo_Y = list(genero_qtd.values())\n",
    "\n",
    "    # Plot configurações da plotagem do gráfico\n",
    "    plt.figure()\n",
    "    plt.bar(eixo_X, eixo_Y)\n",
    "    plt.bar_label(plt.bar(eixo_X, eixo_Y))\n",
    "    plt.xlabel('Gênero')\n",
    "    plt.ylabel('Quantidade')\n",
    "    plt.title('Quantidade de Livros por Gênero')\n",
    "    plt.xticks(rotation=45, ha='right')\n",
    "    plt.tight_layout()\n",
    "    # Plota o gráfico\n",
    "    plt.show()\n"
   ]
  }
 ],
 "metadata": {
  "kernelspec": {
   "display_name": "Python 3",
   "language": "python",
   "name": "python3"
  },
  "language_info": {
   "codemirror_mode": {
    "name": "ipython",
    "version": 3
   },
   "file_extension": ".py",
   "mimetype": "text/x-python",
   "name": "python",
   "nbconvert_exporter": "python",
   "pygments_lexer": "ipython3",
   "version": "3.13.7"
  }
 },
 "nbformat": 4,
 "nbformat_minor": 5
}
